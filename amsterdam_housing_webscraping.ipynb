{
 "cells": [
  {
   "cell_type": "markdown",
   "id": "252d2c7e",
   "metadata": {},
   "source": [
    "# <center>Web Scraping Price Rental Apartments Amsterdam"
   ]
  },
  {
   "cell_type": "markdown",
   "id": "c17584ef",
   "metadata": {},
   "source": [
    "### Importing libraries"
   ]
  },
  {
   "cell_type": "code",
   "execution_count": 1,
   "id": "13fda271",
   "metadata": {},
   "outputs": [],
   "source": [
    "from bs4 import BeautifulSoup\n",
    "import requests\n",
    "from csv import writer"
   ]
  },
  {
   "cell_type": "code",
   "execution_count": 2,
   "id": "4b518d42",
   "metadata": {},
   "outputs": [],
   "source": [
    "url = \"https://www.pararius.com/apartments/amsterdam?ac=1\"\n",
    "page = requests.get(url)"
   ]
  },
  {
   "cell_type": "code",
   "execution_count": 3,
   "id": "07f7d451",
   "metadata": {},
   "outputs": [],
   "source": [
    "soup = BeautifulSoup(page.content, \"html.parser\")\n",
    "lists = soup.find_all('section', class_=\"listing-search-item listing-search-item--list listing-search-item--for-rent\")\n",
    "\n",
    "\n",
    "with open('housing.csv', 'w', encoding='utf8', newline='') as f:\n",
    "    thewriter = writer(f)\n",
    "    header = ['Title', 'Location', 'Price', 'Area', 'room']\n",
    "    thewriter.writerow(header)\n",
    "\n",
    "for lst in lists:\n",
    "    title = lst.find('a', class_=\"listing-search-item__link listing-search-item__link--title\").text.replace('\\n', '')\n",
    "    location = lst.find('div', class_=\"listing-search-item__sub-title\").text.replace('\\n', '')\n",
    "    price = lst.find('div', class_=\"listing-search-item__price\").text.replace('\\n', '')\n",
    "    area = lst.find('li', class_=\"illustrated-features__item illustrated-features__item--surface-area\").text.replace('\\n', '')\n",
    "    room = lst.find('li', class_=\"illustrated-features__item illustrated-features__item--number-of-rooms\").text.replace('\\n', '')\n",
    "    \n",
    "    info = [title, location, price, area, room]\n",
    "    thewriter.writerow(info)\n",
    "        "
   ]
  },
  {
   "cell_type": "code",
   "execution_count": null,
   "id": "38ded53e",
   "metadata": {},
   "outputs": [],
   "source": []
  }
 ],
 "metadata": {
  "kernelspec": {
   "display_name": "Python 3 (ipykernel)",
   "language": "python",
   "name": "python3"
  },
  "language_info": {
   "codemirror_mode": {
    "name": "ipython",
    "version": 3
   },
   "file_extension": ".py",
   "mimetype": "text/x-python",
   "name": "python",
   "nbconvert_exporter": "python",
   "pygments_lexer": "ipython3",
   "version": "3.10.4"
  }
 },
 "nbformat": 4,
 "nbformat_minor": 5
}
